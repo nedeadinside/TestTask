{
  "cells": [
    {
      "cell_type": "code",
      "execution_count": 2,
      "metadata": {
        "id": "mQ1qNEaW9xaX"
      },
      "outputs": [],
      "source": [
        "from tqdm.notebook import tqdm\n",
        "import pandas as pd\n",
        "import numpy as np\n",
        "%matplotlib inline\n",
        "\n",
        "import matplotlib.pyplot as plt\n",
        "\n",
        "import torch\n",
        "from torch import nn"
      ]
    },
    {
      "cell_type": "code",
      "execution_count": 3,
      "metadata": {
        "id": "q0wCWEQp9xaY"
      },
      "outputs": [],
      "source": [
        "class Model(nn.Module):\n",
        "    def __init__(self):\n",
        "        super().__init__()\n",
        "        \n",
        "        self.encoder = nn.Sequential(\n",
        "            nn.Linear(8, 6),\n",
        "            nn.ReLU(),\n",
        "            nn.Linear(6, 4),\n",
        "            nn.ReLU(),\n",
        "            nn.Linear(4, 2),\n",
        "        )\n",
        "        \n",
        "        self.decoder = nn.Sequential(\n",
        "            nn.Linear(2, 4),\n",
        "            nn.ReLU(),\n",
        "            nn.Linear(4, 6),\n",
        "            nn.ReLU(),\n",
        "            nn.Linear(6, 8),\n",
        "            \n",
        "        )\n",
        "\n",
        "    def forward(self, x):\n",
        "        encoded = self.encoder(x)\n",
        "        decoded = self.decoder(encoded)\n",
        "        return decoded"
      ]
    },
    {
      "cell_type": "markdown",
      "metadata": {
        "id": "lULuJYp69xaY"
      },
      "source": [
        "### Создадим Dataloader и приведем датасет к Tensor"
      ]
    },
    {
      "cell_type": "code",
      "execution_count": null,
      "metadata": {
        "id": "BHygiOF4K6eG"
      },
      "outputs": [],
      "source": [
        "train_dataset = pd.read_csv('train.csv', index_col=False)\n",
        "test_dataset = pd.read_csv('test.csv', index_col=False)\n",
        "\n",
        "print(train_dataset.describe())\n",
        "print(test_dataset.describe())"
      ]
    },
    {
      "cell_type": "code",
      "execution_count": null,
      "metadata": {
        "id": "ULT3tqyE9xaZ"
      },
      "outputs": [],
      "source": [
        "from torch.utils.data import TensorDataset, DataLoader\n",
        "\n",
        "train_target = torch.Tensor(train_dataset.values[:, -1]).view(-1,1)\n",
        "test_target = torch.Tensor(test_dataset.values[:, -1]).view(-1,1)\n",
        "\n",
        "train_data = torch.Tensor(train_dataset.values[:, :-1])\n",
        "test_data = torch.Tensor(test_dataset.values[:, :-1])\n",
        "\n",
        "\n",
        "train_tensorset = TensorDataset(train_data, train_target)\n",
        "test_tensorset = TensorDataset(test_data, test_target)\n",
        "\n",
        "\n",
        "train_size = int(len(train_tensorset) * 0.85)\n",
        "val_size = len(train_tensorset) - train_size\n",
        "\n",
        "\n",
        "train, val = torch.utils.data.random_split(train_tensorset, [train_size, val_size])\n",
        "\n",
        "\n",
        "train_loader = DataLoader(train, batch_size=128, shuffle=True)\n",
        "val_loader = DataLoader(val, batch_size=128, shuffle=False)\n",
        "test_loader = DataLoader(test_tensorset, batch_size=128, shuffle=False)"
      ]
    },
    {
      "cell_type": "code",
      "execution_count": null,
      "metadata": {
        "id": "gV96OYiZ9xaZ"
      },
      "outputs": [],
      "source": [
        "from sklearn.metrics import accuracy_score\n",
        "\n",
        "def evaluate(model, dataloader, loss_fn):\n",
        "\n",
        "    y_pred_list = []\n",
        "    y_true_list = []\n",
        "    losses = []\n",
        "\n",
        "    for i, batch in enumerate(tqdm(dataloader)):\n",
        "\n",
        "        X_batch, y_batch = batch\n",
        "\n",
        "        with torch.no_grad():\n",
        "\n",
        "            logits = model(X_batch)\n",
        "\n",
        "            loss = loss_fn(logits, y_batch)\n",
        "            loss = loss.item()\n",
        "\n",
        "            losses.append(loss)\n",
        "\n",
        "            y_pred = torch.round(logits)\n",
        "\n",
        "        y_pred_list.extend(y_pred)\n",
        "        y_true_list.extend(y_batch.numpy())\n",
        "\n",
        "\n",
        "    accuracy = accuracy_score(y_pred_list, y_true_list)\n",
        "\n",
        "    return accuracy, np.mean(losses)\n"
      ]
    },
    {
      "cell_type": "code",
      "execution_count": null,
      "metadata": {
        "id": "kXlgTzCx9xaZ"
      },
      "outputs": [],
      "source": [
        "def train(model, loss_fn, optimizer, n_epoch=6):\n",
        "\n",
        "    model.train(True)\n",
        "\n",
        "    data = {\n",
        "        'acc_train': [],\n",
        "        'loss_train': [],\n",
        "        'acc_val': [],\n",
        "        'loss_val': []\n",
        "    }\n",
        "\n",
        "    for epoch in tqdm(range(n_epoch)):\n",
        "\n",
        "        for i, batch in enumerate(tqdm(train_loader)):\n",
        "\n",
        "            X_batch, y_batch = batch\n",
        "\n",
        "            logits = model(X_batch)\n",
        "\n",
        "            loss = loss_fn(logits, y_batch)\n",
        "\n",
        "            optimizer.zero_grad()\n",
        "            loss.backward()\n",
        "            optimizer.step()\n",
        "\n",
        "        model.eval()\n",
        "\n",
        "        print('On epoch end', epoch)\n",
        "\n",
        "        acc_train_epoch, loss_train_epoch = evaluate(model, train_loader, loss_fn)\n",
        "        print('Train acc:', acc_train_epoch, 'Train loss:', loss_train_epoch)\n",
        "\n",
        "        acc_val_epoch, loss_val_epoch = evaluate(model, val_loader, loss_fn)\n",
        "        print('Val acc:', acc_val_epoch, 'Val loss:', loss_val_epoch)\n",
        "\n",
        "\n",
        "        data['acc_train'].append(acc_train_epoch)\n",
        "        data['loss_train'].append(loss_train_epoch)\n",
        "        data['acc_val'].append(acc_val_epoch)\n",
        "        data['loss_val'].append(loss_val_epoch)\n",
        "\n",
        "    return model, data\n"
      ]
    },
    {
      "cell_type": "code",
      "execution_count": null,
      "metadata": {
        "id": "6qvQcjYi9xaZ"
      },
      "outputs": [],
      "source": [
        "# learning_rates = list(map(float,np.arange(1e-5, 0.1, .007)))\n",
        "# acc_list = []\n",
        "# loss_list = []\n",
        "\n",
        "# for lr in learning_rates:\n",
        "#     model = Model()\n",
        "\n",
        "#     loss_function = nn.BCELoss()\n",
        "\n",
        "#     optimizer = torch.optim.Adam(model.parameters(), lr=lr)\n",
        "\n",
        "#     model, data = train(model, loss_function, optimizer, n_epoch=5)\n",
        "\n",
        "#     test_acc, test_loss = evaluate(model, test_loader, loss_function)\n",
        "#     acc_list.append(test_acc)\n",
        "#     loss_list.append(test_loss)\n"
      ]
    },
    {
      "cell_type": "code",
      "execution_count": null,
      "metadata": {
        "id": "_9aviRr39xaZ"
      },
      "outputs": [],
      "source": [
        "# plt.figure(figsize=(16,10))\n",
        "# plt.xticks(np.arange(min(learning_rates), max(learning_rates), .007))\n",
        "# plt.plot(learning_rates, loss_list, 'o', alpha=0.6)\n",
        "# plt.plot(learning_rates, loss_list)"
      ]
    },
    {
      "cell_type": "code",
      "execution_count": null,
      "metadata": {
        "id": "vwDxmbix72Oz"
      },
      "outputs": [],
      "source": [
        "# plt.figure(figsize=(16,10))\n",
        "# plt.xticks(np.arange(min(learning_rates), max(learning_rates), .007))\n",
        "# plt.plot(learning_rates, acc_list, 'o', alpha=0.6)\n",
        "# plt.plot(learning_rates, acc_list)"
      ]
    }
  ],
  "metadata": {
    "colab": {
      "provenance": []
    },
    "kernelspec": {
      "display_name": "Python 3 (ipykernel)",
      "language": "python",
      "name": "python3"
    },
    "language_info": {
      "codemirror_mode": {
        "name": "ipython",
        "version": 3
      },
      "file_extension": ".py",
      "mimetype": "text/x-python",
      "name": "python",
      "nbconvert_exporter": "python",
      "pygments_lexer": "ipython3",
      "version": "3.12.1"
    }
  },
  "nbformat": 4,
  "nbformat_minor": 0
}
