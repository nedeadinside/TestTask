{
 "cells": [
  {
   "cell_type": "code",
   "execution_count": 1,
   "id": "5348f19f-3b0d-4fc3-b73d-12f86ab59e2e",
   "metadata": {
    "editable": true,
    "slideshow": {
     "slide_type": ""
    },
    "tags": []
   },
   "outputs": [],
   "source": [
    "import pandas as pd\n",
    "import matplotlib.pyplot as plt\n",
    "%matplotlib inline"
   ]
  },
  {
   "cell_type": "markdown",
   "id": "5b6d28ab-0663-4f9e-8f05-b76655deca96",
   "metadata": {},
   "source": [
    "Загрузим данные из csv файла в DataFrame и отберем их"
   ]
  },
  {
   "cell_type": "code",
   "execution_count": 2,
   "id": "84688278-db9f-46ca-8154-e634076165f3",
   "metadata": {},
   "outputs": [
    {
     "data": {
      "text/html": [
       "<div>\n",
       "<style scoped>\n",
       "    .dataframe tbody tr th:only-of-type {\n",
       "        vertical-align: middle;\n",
       "    }\n",
       "\n",
       "    .dataframe tbody tr th {\n",
       "        vertical-align: top;\n",
       "    }\n",
       "\n",
       "    .dataframe thead th {\n",
       "        text-align: right;\n",
       "    }\n",
       "</style>\n",
       "<table border=\"1\" class=\"dataframe\">\n",
       "  <thead>\n",
       "    <tr style=\"text-align: right;\">\n",
       "      <th></th>\n",
       "      <th>sum_data</th>\n",
       "      <th>max_pkt</th>\n",
       "      <th>pkt_count</th>\n",
       "      <th>avg_pkt</th>\n",
       "      <th>flow_speed</th>\n",
       "      <th>pkt_speed</th>\n",
       "      <th>delta_med</th>\n",
       "      <th>delta_min</th>\n",
       "      <th>status</th>\n",
       "    </tr>\n",
       "  </thead>\n",
       "  <tbody>\n",
       "    <tr>\n",
       "      <th>0</th>\n",
       "      <td>5068074.0</td>\n",
       "      <td>8760.0</td>\n",
       "      <td>1278.0</td>\n",
       "      <td>3965.629108</td>\n",
       "      <td>1.013587e+06</td>\n",
       "      <td>255.593016</td>\n",
       "      <td>0.000566</td>\n",
       "      <td>2.384186e-07</td>\n",
       "      <td>0.0</td>\n",
       "    </tr>\n",
       "    <tr>\n",
       "      <th>1</th>\n",
       "      <td>11931634.0</td>\n",
       "      <td>8760.0</td>\n",
       "      <td>2181.0</td>\n",
       "      <td>5470.717102</td>\n",
       "      <td>2.364582e+06</td>\n",
       "      <td>432.225320</td>\n",
       "      <td>0.000707</td>\n",
       "      <td>2.384186e-07</td>\n",
       "      <td>0.0</td>\n",
       "    </tr>\n",
       "    <tr>\n",
       "      <th>2</th>\n",
       "      <td>10780930.0</td>\n",
       "      <td>8760.0</td>\n",
       "      <td>2027.0</td>\n",
       "      <td>5318.663049</td>\n",
       "      <td>2.141800e+06</td>\n",
       "      <td>402.695129</td>\n",
       "      <td>0.000622</td>\n",
       "      <td>2.384186e-07</td>\n",
       "      <td>0.0</td>\n",
       "    </tr>\n",
       "    <tr>\n",
       "      <th>3</th>\n",
       "      <td>9932642.0</td>\n",
       "      <td>8760.0</td>\n",
       "      <td>1924.0</td>\n",
       "      <td>5162.495842</td>\n",
       "      <td>1.986272e+06</td>\n",
       "      <td>384.750392</td>\n",
       "      <td>0.000656</td>\n",
       "      <td>2.384186e-07</td>\n",
       "      <td>0.0</td>\n",
       "    </tr>\n",
       "    <tr>\n",
       "      <th>4</th>\n",
       "      <td>13326703.0</td>\n",
       "      <td>8760.0</td>\n",
       "      <td>2336.0</td>\n",
       "      <td>5704.924229</td>\n",
       "      <td>2.602427e+06</td>\n",
       "      <td>456.172115</td>\n",
       "      <td>0.000704</td>\n",
       "      <td>2.384186e-07</td>\n",
       "      <td>0.0</td>\n",
       "    </tr>\n",
       "  </tbody>\n",
       "</table>\n",
       "</div>"
      ],
      "text/plain": [
       "     sum_data  max_pkt  pkt_count      avg_pkt    flow_speed   pkt_speed  \\\n",
       "0   5068074.0   8760.0     1278.0  3965.629108  1.013587e+06  255.593016   \n",
       "1  11931634.0   8760.0     2181.0  5470.717102  2.364582e+06  432.225320   \n",
       "2  10780930.0   8760.0     2027.0  5318.663049  2.141800e+06  402.695129   \n",
       "3   9932642.0   8760.0     1924.0  5162.495842  1.986272e+06  384.750392   \n",
       "4  13326703.0   8760.0     2336.0  5704.924229  2.602427e+06  456.172115   \n",
       "\n",
       "   delta_med     delta_min  status  \n",
       "0   0.000566  2.384186e-07     0.0  \n",
       "1   0.000707  2.384186e-07     0.0  \n",
       "2   0.000622  2.384186e-07     0.0  \n",
       "3   0.000656  2.384186e-07     0.0  \n",
       "4   0.000704  2.384186e-07     0.0  "
      ]
     },
     "execution_count": 2,
     "metadata": {},
     "output_type": "execute_result"
    }
   ],
   "source": [
    "dataframe = pd.read_csv('data.csv')\n",
    "dataframe.head()"
   ]
  },
  {
   "cell_type": "markdown",
   "id": "dda8bb41-edeb-4223-a53d-3065e0901e70",
   "metadata": {},
   "source": [
    "При отборе данных для \"имитации\" пользовательской нагрузки использовался Apache-Jemeter, шаблон запросов представлен в файле requests.jmx \n",
    "\n",
    "Либо лично я не смог найти как изменить межпакетный интервал, либо же данная функция не предусмотрена, параметр delta_min при обучении мы опустим, тк на всех данных он равен одному значению.\n",
    "Можно конечно было попробовать изменить его значение на рандомное, исходя из delta_med, однако пока что обойдемся без этого.\n",
    "Также проблемы могут возникнуть с значениями столбца max_pkt, хоть при сборе статистики файл шаблонных запросов менялся(примерно раз в 1-2 часа), данные сильно повторяются, пока что этот параметр оставим, но в дальнейшем попробуем проэксперементировать с этим параметром."
   ]
  },
  {
   "cell_type": "code",
   "execution_count": 3,
   "id": "453e7828-3937-4e51-85bf-fe78d6b32c90",
   "metadata": {},
   "outputs": [],
   "source": [
    "del dataframe['delta_min'] "
   ]
  },
  {
   "cell_type": "code",
   "execution_count": 4,
   "id": "5dc8b763-d2a5-4a73-a0e9-6d2976c6c4fe",
   "metadata": {},
   "outputs": [],
   "source": [
    "from sklearn.ensemble import RandomForestClassifier"
   ]
  },
  {
   "cell_type": "code",
   "execution_count": 5,
   "id": "4268c5b2-485c-4ea6-8186-7fe7f972d765",
   "metadata": {},
   "outputs": [
    {
     "data": {
      "text/plain": [
       "<BarContainer object of 7 artists>"
      ]
     },
     "execution_count": 5,
     "metadata": {},
     "output_type": "execute_result"
    },
    {
     "data": {
      "image/png": "[encoded data removed]",
      "text/plain": [
       "<Figure size 1200x1200 with 1 Axes>"
      ]
     },
     "metadata": {},
     "output_type": "display_data"
    }
   ],
   "source": [
    "clf = RandomForestClassifier()\n",
    "X = dataframe[['sum_data','max_pkt','pkt_count','avg_pkt','flow_speed','pkt_speed','delta_med']].copy()\n",
    "y = dataframe['status'].copy()\n",
    "clf.fit(X, y)\n",
    "plt.figure(figsize=(12,12))\n",
    "plt.bar(X.columns, clf.feature_importances_)"
   ]
  },
  {
   "cell_type": "markdown",
   "id": "b808c648-dc83-4413-b7f2-a1c2b0cf9245",
   "metadata": {},
   "source": [
    "Заметим, что в нашем случае параметры msx_pkt и delta_med оказывают наименьшее влияние"
   ]
  },
  {
   "cell_type": "code",
   "execution_count": 6,
   "id": "578a3647-0f25-4d04-906e-def905bc18f0",
   "metadata": {},
   "outputs": [],
   "source": [
    "from sklearn.metrics import f1_score, accuracy_score \n",
    "from sklearn.model_selection import StratifiedShuffleSplit"
   ]
  },
  {
   "cell_type": "code",
   "execution_count": 7,
   "id": "7d9e9bbb-9158-40f8-b62d-03b835abfac3",
   "metadata": {},
   "outputs": [],
   "source": [
    "sss = StratifiedShuffleSplit(n_splits=1, test_size=0.3, random_state=42)\n",
    "for train_index, test_index in sss.split(X, y):\n",
    "    X_train, X_test = X.iloc[train_index], X.iloc[test_index]\n",
    "    y_train, y_test = y.iloc[train_index], y.iloc[test_index]"
   ]
  },
  {
   "cell_type": "code",
   "execution_count": 8,
   "id": "f0fe6540-5bfb-4a94-9006-f772b659ee77",
   "metadata": {},
   "outputs": [],
   "source": [
    "from sklearn.model_selection import GridSearchCV\n",
    "n_estimators = [300,500,700]\n",
    "max_features = ['sqrt']\n",
    "max_depth = [2,3,7,11,15]\n",
    "min_samples_split = [2,3,4,22,23,24]\n",
    "min_samples_leaf = [2,3,4,5,6,7]\n",
    "bootstrap = [False]\n",
    "param_grid = {'n_estimators': n_estimators,\n",
    "               'max_features': max_features,\n",
    "               'max_depth': max_depth,\n",
    "               'min_samples_split': min_samples_split,\n",
    "               'min_samples_leaf': min_samples_leaf,\n",
    "               'bootstrap': bootstrap}"
   ]
  },
  {
   "cell_type": "code",
   "execution_count": 9,
   "id": "cce01978-041d-4b73-9fb2-4dc95dac07c5",
   "metadata": {},
   "outputs": [],
   "source": [
    "rfc = RandomForestClassifier()"
   ]
  },
  {
   "cell_type": "markdown",
   "id": "741e90f2-57d1-437b-9384-b046b0a597bd",
   "metadata": {},
   "source": [
    "Займемся поиском наилучших гиперпараметров для нашей модели."
   ]
  },
  {
   "cell_type": "code",
   "execution_count": 10,
   "id": "5b0b5689-a545-47c7-acd6-2b9d168da9bf",
   "metadata": {},
   "outputs": [
    {
     "name": "stdout",
     "output_type": "stream",
     "text": [
      "Fitting 3 folds for each of 540 candidates, totalling 1620 fits\n",
      "{'bootstrap': False, 'max_depth': 3, 'max_features': 'sqrt', 'min_samples_leaf': 2, 'min_samples_split': 2, 'n_estimators': 300}\n"
     ]
    }
   ],
   "source": [
    "gs = GridSearchCV(rfc, param_grid, cv = 3, verbose = 1, n_jobs=-1)\n",
    "gs.fit(X_train.values, y_train.values)\n",
    "rfc = gs.best_estimator_\n",
    "print(gs.best_params_)"
   ]
  },
  {
   "cell_type": "code",
   "execution_count": 11,
   "id": "47d5debe-2473-4c2a-bfa8-45661bd9a682",
   "metadata": {},
   "outputs": [
    {
     "data": {
      "text/plain": [
       "1.0"
      ]
     },
     "execution_count": 11,
     "metadata": {},
     "output_type": "execute_result"
    }
   ],
   "source": [
    "y_pred = rfc.predict(X_test.values)\n",
    "f1_score(y_pred, y_test)"
   ]
  },
  {
   "cell_type": "markdown",
   "id": "2ad043b0-6307-4e68-b6b5-46a82e508aaa",
   "metadata": {},
   "source": [
    "Видим, что оценка модели по f1 мере составляет 99-100%, что очевидно является показателем странным. Возможно имеет место переобучение, однако когда я проводил обучение на меньших объемах данных, увеличивал тестовую выборку, результат не менялся, поэтому делаю вывод: дело в данных. Хоть набор и показывает себя хорошо на \"искуственных\" данных, он нерепрезентативен для настоящей задачи."
   ]
  },
  {
   "cell_type": "code",
   "execution_count": 12,
   "id": "8852dfda-f2d3-4b1f-a3cf-1bac53305020",
   "metadata": {},
   "outputs": [],
   "source": [
    "import joblib"
   ]
  },
  {
   "cell_type": "code",
   "execution_count": 13,
   "id": "20db3d52-2ef4-4e70-8eac-488c3445c1a6",
   "metadata": {},
   "outputs": [
    {
     "data": {
      "text/plain": [
       "['model.pkl']"
      ]
     },
     "execution_count": 13,
     "metadata": {},
     "output_type": "execute_result"
    }
   ],
   "source": [
    "joblib.dump(rfc, 'model1.pkl')"
   ]
  },
  {
   "cell_type": "markdown",
   "id": "0d86bbde-0769-41ef-b10b-599e788326fa",
   "metadata": {},
   "source": [
    "Сохраним полученную модель. "
   ]
  }
 ],
 "metadata": {
  "kernelspec": {
   "display_name": "Python 3 (ipykernel)",
   "language": "python",
   "name": "python3"
  },
  "language_info": {
   "codemirror_mode": {
    "name": "ipython",
    "version": 3
   },
   "file_extension": ".py",
   "mimetype": "text/x-python",
   "name": "python",
   "nbconvert_exporter": "python",
   "pygments_lexer": "ipython3",
   "version": "3.12.1"
  }
 },
 "nbformat": 4,
 "nbformat_minor": 5
}
